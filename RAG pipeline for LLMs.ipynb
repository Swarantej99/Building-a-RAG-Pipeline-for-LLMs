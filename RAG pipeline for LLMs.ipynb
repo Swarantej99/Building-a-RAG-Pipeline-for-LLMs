{
 "cells": [
  {
   "cell_type": "code",
   "execution_count": 3,
   "id": "615424c9",
   "metadata": {},
   "outputs": [],
   "source": [
    "import wikipedia\n",
    "from transformers import AutoTokenizer, AutoModelForQuestionAnswering, pipeline\n",
    "from sentence_transformers import SentenceTransformer\n",
    "import faiss\n",
    "import numpy as np"
   ]
  },
  {
   "cell_type": "code",
   "execution_count": 2,
   "id": "6d06a4a7",
   "metadata": {},
   "outputs": [
    {
     "name": "stdout",
     "output_type": "stream",
     "text": [
      "Defaulting to user installation because normal site-packages is not writeable\n",
      "Collecting urllib3<2.0\n",
      "  Downloading urllib3-1.26.20-py2.py3-none-any.whl.metadata (50 kB)\n",
      "Downloading urllib3-1.26.20-py2.py3-none-any.whl (144 kB)\n",
      "Installing collected packages: urllib3\n",
      "  Attempting uninstall: urllib3\n",
      "    Found existing installation: urllib3 2.3.0\n",
      "    Uninstalling urllib3-2.3.0:\n",
      "      Successfully uninstalled urllib3-2.3.0\n",
      "Successfully installed urllib3-1.26.20\n",
      "Note: you may need to restart the kernel to use updated packages.\n"
     ]
    }
   ],
   "source": [
    "pip install \"urllib3<2.0\""
   ]
  },
  {
   "cell_type": "markdown",
   "id": "e6688fe8",
   "metadata": {},
   "source": [
    "__Step 1: Retrieving Knowledge__"
   ]
  },
  {
   "cell_type": "code",
   "execution_count": 4,
   "id": "9471369f",
   "metadata": {},
   "outputs": [],
   "source": [
    "def get_wikipedia_content(topic):\n",
    "    try:\n",
    "        page = wikipedia.page(topic)\n",
    "        return page.content\n",
    "    except wikipedia.exceptions.PageError:\n",
    "        return None\n",
    "    except wikipedia.exceptions.DisambiguationError as e:\n",
    "        # handle cases where the topic is ambiguous\n",
    "        print(f\"Ambiguous topic. Please be more specific. Options: {e.options}\")\n",
    "        return None\n",
    "\n",
    "# user input\n",
    "topic = input(\"Enter a topic to learn about: \")\n",
    "document = get_wikipedia_content(topic)\n",
    "\n",
    "if not document:\n",
    "    print(\"Could not retrieve information.\")\n",
    "    exit()"
   ]
  },
  {
   "cell_type": "markdown",
   "id": "5ebc0c90",
   "metadata": {},
   "source": [
    "__Since Wikipedia articles can be long, we will split the text into smaller overlapping chunks for better retrieval__"
   ]
  },
  {
   "cell_type": "code",
   "execution_count": 5,
   "id": "1dcbaac2",
   "metadata": {},
   "outputs": [
    {
     "data": {
      "application/vnd.jupyter.widget-view+json": {
       "model_id": "fa6de98598844f3cb7517bbd376542b0",
       "version_major": 2,
       "version_minor": 0
      },
      "text/plain": [
       "tokenizer_config.json:   0%|          | 0.00/363 [00:00<?, ?B/s]"
      ]
     },
     "metadata": {},
     "output_type": "display_data"
    },
    {
     "data": {
      "application/vnd.jupyter.widget-view+json": {
       "model_id": "71a4021f232749c3a56cf0b7e147f844",
       "version_major": 2,
       "version_minor": 0
      },
      "text/plain": [
       "vocab.txt:   0%|          | 0.00/232k [00:00<?, ?B/s]"
      ]
     },
     "metadata": {},
     "output_type": "display_data"
    },
    {
     "data": {
      "application/vnd.jupyter.widget-view+json": {
       "model_id": "c37692b659ab48cc960522b684f882fa",
       "version_major": 2,
       "version_minor": 0
      },
      "text/plain": [
       "tokenizer.json:   0%|          | 0.00/466k [00:00<?, ?B/s]"
      ]
     },
     "metadata": {},
     "output_type": "display_data"
    },
    {
     "data": {
      "application/vnd.jupyter.widget-view+json": {
       "model_id": "f59ea1fb52c344439c067fc9aea73223",
       "version_major": 2,
       "version_minor": 0
      },
      "text/plain": [
       "special_tokens_map.json:   0%|          | 0.00/239 [00:00<?, ?B/s]"
      ]
     },
     "metadata": {},
     "output_type": "display_data"
    },
    {
     "name": "stderr",
     "output_type": "stream",
     "text": [
      "Token indices sequence length is longer than the specified maximum sequence length for this model (17553 > 512). Running this sequence through the model will result in indexing errors\n"
     ]
    },
    {
     "name": "stdout",
     "output_type": "stream",
     "text": [
      "Number of chunks: 75\n"
     ]
    }
   ],
   "source": [
    "tokenizer = AutoTokenizer.from_pretrained(\"sentence-transformers/all-mpnet-base-v2\")\n",
    "\n",
    "def split_text(text, chunk_size=256, chunk_overlap=20):\n",
    "    tokens = tokenizer.tokenize(text)\n",
    "    chunks = []\n",
    "    start = 0\n",
    "    while start < len(tokens):\n",
    "        end = min(start + chunk_size, len(tokens))\n",
    "        chunks.append(tokenizer.convert_tokens_to_string(tokens[start:end]))\n",
    "        if end == len(tokens):\n",
    "            break\n",
    "        start = end - chunk_overlap\n",
    "    return chunks\n",
    "\n",
    "chunks = split_text(document)\n",
    "print(f\"Number of chunks: {len(chunks)}\")"
   ]
  },
  {
   "cell_type": "markdown",
   "id": "6f63a875",
   "metadata": {},
   "source": [
    "__Step 2: Storing and Retrieving Knowledge__"
   ]
  },
  {
   "cell_type": "code",
   "execution_count": 6,
   "id": "83e754c7",
   "metadata": {},
   "outputs": [
    {
     "data": {
      "application/vnd.jupyter.widget-view+json": {
       "model_id": "325f35b253114e8790dd61cefbefd555",
       "version_major": 2,
       "version_minor": 0
      },
      "text/plain": [
       "modules.json:   0%|          | 0.00/349 [00:00<?, ?B/s]"
      ]
     },
     "metadata": {},
     "output_type": "display_data"
    },
    {
     "data": {
      "application/vnd.jupyter.widget-view+json": {
       "model_id": "57185fd6016e44c981b5d6408c5f9cb5",
       "version_major": 2,
       "version_minor": 0
      },
      "text/plain": [
       "config_sentence_transformers.json:   0%|          | 0.00/116 [00:00<?, ?B/s]"
      ]
     },
     "metadata": {},
     "output_type": "display_data"
    },
    {
     "data": {
      "application/vnd.jupyter.widget-view+json": {
       "model_id": "c4eeb351fd314399992ba07e4ca10406",
       "version_major": 2,
       "version_minor": 0
      },
      "text/plain": [
       "README.md:   0%|          | 0.00/10.4k [00:00<?, ?B/s]"
      ]
     },
     "metadata": {},
     "output_type": "display_data"
    },
    {
     "data": {
      "application/vnd.jupyter.widget-view+json": {
       "model_id": "6c6acaeac5874ad1a9acf78060bc079c",
       "version_major": 2,
       "version_minor": 0
      },
      "text/plain": [
       "sentence_bert_config.json:   0%|          | 0.00/53.0 [00:00<?, ?B/s]"
      ]
     },
     "metadata": {},
     "output_type": "display_data"
    },
    {
     "data": {
      "application/vnd.jupyter.widget-view+json": {
       "model_id": "3842bf43e51643f58856ab7532421669",
       "version_major": 2,
       "version_minor": 0
      },
      "text/plain": [
       "config.json:   0%|          | 0.00/571 [00:00<?, ?B/s]"
      ]
     },
     "metadata": {},
     "output_type": "display_data"
    },
    {
     "data": {
      "application/vnd.jupyter.widget-view+json": {
       "model_id": "cc381e4dd7ab4ffb931dcd8d38c45797",
       "version_major": 2,
       "version_minor": 0
      },
      "text/plain": [
       "model.safetensors:   0%|          | 0.00/438M [00:00<?, ?B/s]"
      ]
     },
     "metadata": {},
     "output_type": "display_data"
    },
    {
     "data": {
      "application/vnd.jupyter.widget-view+json": {
       "model_id": "8f6328e5715f407681ae3d3a4d508148",
       "version_major": 2,
       "version_minor": 0
      },
      "text/plain": [
       "config.json:   0%|          | 0.00/190 [00:00<?, ?B/s]"
      ]
     },
     "metadata": {},
     "output_type": "display_data"
    }
   ],
   "source": [
    "embedding_model = SentenceTransformer(\"sentence-transformers/all-mpnet-base-v2\")\n",
    "embeddings = embedding_model.encode(chunks)\n",
    "\n",
    "dimension = embeddings.shape[1]\n",
    "index = faiss.IndexFlatL2(dimension)\n",
    "index.add(np.array(embeddings))"
   ]
  },
  {
   "cell_type": "markdown",
   "id": "6c8c90ed",
   "metadata": {},
   "source": [
    "__Step 3: Querying the RAG Pipeline__"
   ]
  },
  {
   "cell_type": "code",
   "execution_count": 23,
   "id": "3084668c",
   "metadata": {},
   "outputs": [
    {
     "name": "stdout",
     "output_type": "stream",
     "text": [
      "Retrieved chunks:\n",
      "- s leadership. on august 19, 2020, apple ' s share price briefly topped $ 467. 77, making it the first us company with a market capitalization of us $ 2 trillion. during its annual wwdc keynote speech on june 22, 2020, apple announced it would move away from intel processors, and the mac would transition to processors developed in - house. the announcement was expected by industry analysts, and it has been noted that macs featuring apple ' s processors would allow for big increases in performance over current intel - based models. on november 10, 2020, the macbook air, macbook pro, and the mac mini became the first macs powered by an apple - designed processor, the apple m1. in april 2022, it was reported that samsung electro - mechanics would be collaborating with apple on its m2 chip instead of lg innotek. developer logs showed that at least nine mac models with four different m2 chips were being tested. the wall street journal reported that apple ' s effort to develop its own chips left it better prepared to deal with the semiconductor shortage that emerged during the covid - 19 pandemic, which led to increased profitability, with sales of m1 - based mac computers rising sharply in 2020 and 2021. it also inspired\n",
      "- account for only about eight percent of the company ' s revenue. there are six mac computer families in production : imac : consumer all - in - one desktop computer, introduced in 1998. mac mini : consumer sub - desktop computer, introduced in 2005. macbook pro : professional notebook, introduced in 2006. mac pro : professional workstation, introduced in 2006. macbook air : consumer ultra - thin notebook, introduced in 2008. mac studio : professional small form - factor workstation, introduced in 2022. often described as a walled garden, macs use apple silicon chips, run the macos operating system, and include apple software like the safari web browser, imovie for home movie editing, garageband for music creation, and the iwork productivity suite. apple also sells pro apps : final cut pro for video production, logic pro for musicians and producers, and xcode for software developers. apple also sells a variety of accessories for macs, including the pro display xdr, apple studio display, magic mouse, magic trackpad, and magic keyboard. = = = iphone = = = the iphone is apple ' s line of smartphones, which run the ios operating system. the first iphone was unveiled by steve jobs on january 9, 2007. since then\n",
      "- the mid - 1980s. since then, the company has expanded its product categories to include various portable devices, starting with the now discontinued ipod ( 2001 ), and later with the iphone ( 2007 ) and ipad ( 2010 ). apple also sells several other products that it categorizes as \" wearables, home and accessories \", such as the apple watch, apple tv, airpods, homepod, and apple vision pro. apple devices have been praised for creating a cohesive ecosystem when used in conjunction with other apple products, though have received criticism for not functioning as well or with as many features when used with competitive devices and instead often relying on apple ' s proprietary features, software, and services to work as intended by apple, an approach often described as \" walled garden \". as of 2023, there are over 2 billion apple devices in active use worldwide. = = = mac = = = mac, which is short for macintosh — its official name until 1999 — is apple ' s line of personal computers that use the company ' s proprietary macos operating system. personal computers were apple ' s original business line, but as of the end of 2024 they account for only about eight percent of the company ' s revenue. there are six mac computer families in\n"
     ]
    }
   ],
   "source": [
    "query = input(\"Ask a question about the topic: \")\n",
    "query_embedding = embedding_model.encode([query])\n",
    "\n",
    "k = 3\n",
    "distances, indices = index.search(np.array(query_embedding), k)\n",
    "retrieved_chunks = [chunks[i] for i in indices[0]]\n",
    "print(\"Retrieved chunks:\")\n",
    "for chunk in retrieved_chunks:\n",
    "    print(\"- \" + chunk)"
   ]
  },
  {
   "cell_type": "code",
   "execution_count": 24,
   "id": "f5719f8a",
   "metadata": {},
   "outputs": [
    {
     "name": "stderr",
     "output_type": "stream",
     "text": [
      "Device set to use mps:0\n"
     ]
    },
    {
     "name": "stdout",
     "output_type": "stream",
     "text": [
      "Answer: apple m1\n"
     ]
    }
   ],
   "source": [
    "qa_model_name = \"deepset/roberta-base-squad2\"\n",
    "qa_tokenizer = AutoTokenizer.from_pretrained(qa_model_name)\n",
    "qa_model = AutoModelForQuestionAnswering.from_pretrained(qa_model_name)\n",
    "qa_pipeline = pipeline(\"question-answering\", model=qa_model, tokenizer=qa_tokenizer)\n",
    "\n",
    "context = \" \".join(retrieved_chunks)\n",
    "answer = qa_pipeline(question=query, context=context)\n",
    "print(f\"Answer: {answer['answer']}\")"
   ]
  }
 ],
 "metadata": {
  "kernelspec": {
   "display_name": "Python 3",
   "language": "python",
   "name": "python3"
  },
  "language_info": {
   "codemirror_mode": {
    "name": "ipython",
    "version": 3
   },
   "file_extension": ".py",
   "mimetype": "text/x-python",
   "name": "python",
   "nbconvert_exporter": "python",
   "pygments_lexer": "ipython3",
   "version": "3.9.6"
  }
 },
 "nbformat": 4,
 "nbformat_minor": 5
}
